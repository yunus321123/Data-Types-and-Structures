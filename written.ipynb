{
  "nbformat": 4,
  "nbformat_minor": 0,
  "metadata": {
    "colab": {
      "provenance": []
    },
    "kernelspec": {
      "name": "python3",
      "display_name": "Python 3"
    },
    "language_info": {
      "name": "python"
    }
  },
  "cells": [
    {
      "cell_type": "markdown",
      "source": [
        "### Data Types and Structures\n"
      ],
      "metadata": {
        "id": "Mlg9LvslY7ml"
      }
    },
    {
      "cell_type": "markdown",
      "source": [
        "### Q1: What are data structures, and why are they important?\n",
        "**Answer:**  \n",
        "Data structures are ways of storing and organizing data in a computer so we can use it efficiently.  \n",
        "They are important because they help us to access, update, and manage data faster and better.  \n",
        "Examples: lists, tuples, sets, dictionaries.\n"
      ],
      "metadata": {
        "id": "33tVAfVeZFF0"
      }
    },
    {
      "cell_type": "markdown",
      "source": [
        "### Q2: Explain the difference between mutable and immutable data types with examples.\n",
        "**Answer:**  \n",
        "- **Mutable** → can be changed (Example: list)  \n",
        "- **Immutable** → cannot be changed (Example: tuple, string)  \n"
      ],
      "metadata": {
        "id": "qmyavWNcZOQr"
      }
    },
    {
      "cell_type": "markdown",
      "source": [
        "### Q3: What are the main differences between lists and tuples in Python?\n",
        "**Answer:**  \n",
        "- Lists are mutable (changeable).  \n",
        "- Tuples are immutable (unchangeable).  \n",
        "- Lists use `[]`, tuples use `()`.  \n",
        "- Tuples are faster than lists.\n"
      ],
      "metadata": {
        "id": "so6NnADOZXfR"
      }
    },
    {
      "cell_type": "markdown",
      "source": [
        "### Q4: Describe how dictionaries store data.\n",
        "**Answer:**  \n",
        "Dictionaries store data in **key-value pairs**.  \n",
        "Each key is unique, and the key is used to find its value quickly.  \n"
      ],
      "metadata": {
        "id": "SKiwTExtZgPz"
      }
    },
    {
      "cell_type": "code",
      "source": [
        "student = {\"name\": \"Ali\", \"age\": 20}\n",
        "print(student[\"name\"])\n"
      ],
      "metadata": {
        "colab": {
          "base_uri": "https://localhost:8080/"
        },
        "id": "6bWd-V9RZuBt",
        "outputId": "05573597-9e66-40e3-a3ac-a9dc2f3d1fbc"
      },
      "execution_count": 1,
      "outputs": [
        {
          "output_type": "stream",
          "name": "stdout",
          "text": [
            "Ali\n"
          ]
        }
      ]
    },
    {
      "cell_type": "markdown",
      "source": [
        "### Q5: Why might you use a set instead of a list in Python?\n",
        "**Answer:**  \n",
        "- Sets do not allow duplicates.  \n",
        "- Sets are faster for checking if an item exists.  \n"
      ],
      "metadata": {
        "id": "bWHBfA4lZzhF"
      }
    },
    {
      "cell_type": "markdown",
      "source": [
        "### Q6: What is a string in Python, and how is it different from a list?\n",
        "**Answer:**  \n",
        "A string is a sequence of characters like `\"hello\"`. It is immutable.  \n",
        "A list is a collection of items and is mutable.  \n"
      ],
      "metadata": {
        "id": "4g-NDevtZ7Au"
      }
    },
    {
      "cell_type": "markdown",
      "source": [
        "### Q7: How do tuples ensure data integrity in Python?\n",
        "**Answer:**  \n",
        "Since tuples cannot be changed, the data inside them remains safe and unchanged.\n"
      ],
      "metadata": {
        "id": "CdPs1MaUZ-RU"
      }
    },
    {
      "cell_type": "markdown",
      "source": [
        "### Q8: What is a hash table, and how does it relate to dictionaries in Python?\n",
        "**Answer:**  \n",
        "A hash table stores data using a hash function for fast access.  \n",
        "Python dictionaries are built on hash tables.\n"
      ],
      "metadata": {
        "id": "SkEjAVJHaCLH"
      }
    },
    {
      "cell_type": "markdown",
      "source": [
        "### Q9: Can lists contain different data types in Python?\n",
        "**Answer:**  \n",
        "Yes, lists can hold integers, strings, floats, and even other lists.\n"
      ],
      "metadata": {
        "id": "VcHZLOkTaE6D"
      }
    },
    {
      "cell_type": "code",
      "source": [
        "mixed = [1, \"hello\", 3.14, [2, 3]]\n",
        "print(mixed)\n"
      ],
      "metadata": {
        "colab": {
          "base_uri": "https://localhost:8080/"
        },
        "id": "gzU95STyaIxP",
        "outputId": "151fc5ae-3d4a-4792-8b89-40884eb9e28c"
      },
      "execution_count": 2,
      "outputs": [
        {
          "output_type": "stream",
          "name": "stdout",
          "text": [
            "[1, 'hello', 3.14, [2, 3]]\n"
          ]
        }
      ]
    },
    {
      "cell_type": "markdown",
      "source": [
        "### Q10: Explain why strings are immutable in Python.\n",
        "**Answer:**  \n",
        "Strings are immutable because changing them creates a new string.  \n",
        "This makes them memory-efficient and safe.\n"
      ],
      "metadata": {
        "id": "klsvHSieaLiu"
      }
    },
    {
      "cell_type": "markdown",
      "source": [
        "### Q11: What advantages do dictionaries offer over lists for certain tasks?\n",
        "**Answer:**  \n",
        "Dictionaries are faster for searching and retrieving data using keys.  \n",
        "With lists, you must search item by item.\n"
      ],
      "metadata": {
        "id": "59E76JsuaOpi"
      }
    },
    {
      "cell_type": "markdown",
      "source": [
        "### Q12: Describe a scenario where using a tuple would be preferable over a list.\n",
        "**Answer:**  \n",
        "When you want fixed data that should not change.  \n",
        "Example: storing coordinates `(x, y)`.\n"
      ],
      "metadata": {
        "id": "VozwvqzpaRRX"
      }
    },
    {
      "cell_type": "markdown",
      "source": [
        "### Q13: How do sets handle duplicate values in Python?\n",
        "**Answer:**  \n",
        "Sets automatically remove duplicates.  \n"
      ],
      "metadata": {
        "id": "_6Bcisk0aUuc"
      }
    },
    {
      "cell_type": "code",
      "source": [
        "s = {1, 2, 2, 3}\n",
        "print(s)\n"
      ],
      "metadata": {
        "colab": {
          "base_uri": "https://localhost:8080/"
        },
        "id": "JeF6rcpKacug",
        "outputId": "35d3669e-f3d4-423d-a155-1861ee6357bd"
      },
      "execution_count": 3,
      "outputs": [
        {
          "output_type": "stream",
          "name": "stdout",
          "text": [
            "{1, 2, 3}\n"
          ]
        }
      ]
    },
    {
      "cell_type": "markdown",
      "source": [
        "### Q14: How does the “in” keyword work differently for lists and dictionaries?\n",
        "**Answer:**  \n",
        "- For lists → checks if the value exists.  \n",
        "- For dictionaries → checks if the key exists.  \n"
      ],
      "metadata": {
        "id": "Ht42oWYdaeE0"
      }
    },
    {
      "cell_type": "code",
      "source": [
        "nums = [1, 2, 3]\n",
        "print(2 in nums)\n",
        "\n",
        "student = {\"name\": \"Ali\", \"age\": 20}\n",
        "print(\"name\" in student)\n",
        "print(\"Ali\" in student)"
      ],
      "metadata": {
        "colab": {
          "base_uri": "https://localhost:8080/"
        },
        "id": "8fQ64JTIakdN",
        "outputId": "c9d1b8c7-4d49-428c-ea73-e08e52ba4737"
      },
      "execution_count": 4,
      "outputs": [
        {
          "output_type": "stream",
          "name": "stdout",
          "text": [
            "True\n",
            "True\n",
            "False\n"
          ]
        }
      ]
    },
    {
      "cell_type": "markdown",
      "source": [
        "### Q15: Can you modify the elements of a tuple? Explain why or why not.\n",
        "**Answer:**  \n",
        "No, because tuples are immutable. Once created, their values cannot be changed.\n"
      ],
      "metadata": {
        "id": "veIITFZTalyB"
      }
    },
    {
      "cell_type": "markdown",
      "source": [
        "### Q16: What is a nested dictionary, and give an example of its use case.\n",
        "**Answer:**  \n",
        "A nested dictionary is a dictionary inside another dictionary.  \n",
        "Useful for storing structured data.  \n"
      ],
      "metadata": {
        "id": "GMtI35z_aosj"
      }
    },
    {
      "cell_type": "code",
      "source": [
        "students = {\n",
        "    \"101\": {\"name\": \"Ali\", \"age\": 20},\n",
        "    \"102\": {\"name\": \"Sara\", \"age\": 22}\n",
        "}\n",
        "print(students[\"101\"][\"name\"])\n"
      ],
      "metadata": {
        "colab": {
          "base_uri": "https://localhost:8080/"
        },
        "id": "r6UXC9a7arfl",
        "outputId": "5a411a4d-56fc-479c-95b7-efc923b671f4"
      },
      "execution_count": 5,
      "outputs": [
        {
          "output_type": "stream",
          "name": "stdout",
          "text": [
            "Ali\n"
          ]
        }
      ]
    },
    {
      "cell_type": "markdown",
      "source": [
        "### Q17: Describe the time complexity of accessing elements in a dictionary.\n",
        "**Answer:**  \n",
        "Accessing an element in a dictionary is usually **O(1)** (very fast).\n"
      ],
      "metadata": {
        "id": "SZsMdsnDavwh"
      }
    },
    {
      "cell_type": "markdown",
      "source": [
        "### Q18: In what situations are lists preferred over dictionaries?\n",
        "**Answer:**  \n",
        "- When order matters.  \n",
        "- When you don’t need key-value pairs.  \n",
        "Example: storing marks `[80, 90, 100]`.\n"
      ],
      "metadata": {
        "id": "96AZ0_W0ay1p"
      }
    },
    {
      "cell_type": "markdown",
      "source": [
        "### Q19: Why are dictionaries considered unordered, and how does that affect data retrieval?\n",
        "**Answer:**  \n",
        "- Dictionaries (before Python 3.7) don’t store items in the order they were added.  \n",
        "- You must use keys to retrieve values, not positions.\n"
      ],
      "metadata": {
        "id": "qageC-gha2d9"
      }
    },
    {
      "cell_type": "markdown",
      "source": [
        "### Q20: Explain the difference between a list and a dictionary in terms of data retrieval.\n",
        "**Answer:**  \n",
        "- In a list → values are accessed using index.  \n",
        "- In a dictionary → values are accessed using keys.  \n"
      ],
      "metadata": {
        "id": "Pgcd2LW5a47n"
      }
    },
    {
      "cell_type": "code",
      "source": [
        "marks = [80, 90, 100]\n",
        "print(marks[1])\n",
        "\n",
        "student = {\"name\": \"Ali\", \"age\": 20}\n",
        "print(student[\"age\"])\n"
      ],
      "metadata": {
        "colab": {
          "base_uri": "https://localhost:8080/"
        },
        "id": "QLiQqUWha8WK",
        "outputId": "cdf9dcf4-78b8-48a6-abf3-ee5a79947bb8"
      },
      "execution_count": 7,
      "outputs": [
        {
          "output_type": "stream",
          "name": "stdout",
          "text": [
            "90\n",
            "20\n"
          ]
        }
      ]
    }
  ]
}